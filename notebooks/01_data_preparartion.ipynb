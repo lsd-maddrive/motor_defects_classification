{
 "cells": [
  {
   "cell_type": "code",
   "execution_count": null,
   "metadata": {},
   "outputs": [],
   "source": [
    "%load_ext autoreload\n",
    "%autoreload 2\n",
    "\n",
    "import os\n",
    "\n",
    "CURRENT_DPATH = os.path.abspath(os.path.dirname(\"__file__\"))\n",
    "ROOT_DPATH = os.path.abspath(os.path.join(CURRENT_DPATH, os.pardir))\n",
    "DATA_DPATH = os.path.join(ROOT_DPATH, \"data\")\n",
    "\n",
    "import pandas as pd \n",
    "\n",
    "from motor_defects_classification.utils.load import load_class_names\n",
    "from motor_defects_classification.utils.fs import get_date_string"
   ]
  },
  {
   "cell_type": "code",
   "execution_count": null,
   "metadata": {},
   "outputs": [],
   "source": [
    "def get_target_class(fpath: str) -> str:\n",
    "    target_classes = load_class_names()\n",
    "    for class_name in target_classes:\n",
    "        if class_name in fpath.lower():\n",
    "            return class_name"
   ]
  },
  {
   "cell_type": "code",
   "execution_count": null,
   "metadata": {},
   "outputs": [],
   "source": [
    "data = []\n",
    "for dir_path, _dir_name, file_names in os.walk(DATA_DPATH):\n",
    "    for file_name in file_names:\n",
    "        fname, fext = os.path.splitext(file_name)\n",
    "        if fext != \".csv\":\n",
    "            continue\n",
    "\n",
    "        full_fpath = os.path.join(dir_path, file_name)\n",
    "        raw_df = pd.read_csv(full_fpath)\n",
    "        # get the last time value\n",
    "        duration = raw_df.Time.iat[-1]\n",
    "\n",
    "        short_dpath = dir_path.split(DATA_DPATH)[-1]\n",
    "        fpath = os.path.join(short_dpath, file_name)\n",
    "        trg_name = get_target_class(fpath)\n",
    "        data.append([fpath, duration, raw_df.shape[0], trg_name])\n",
    "\n",
    "df = pd.DataFrame(data, columns=[\"fpath\", \"duration\", \"n_samples\", \"target\"])"
   ]
  },
  {
   "cell_type": "code",
   "execution_count": null,
   "metadata": {},
   "outputs": [],
   "source": [
    "df = pd.concat(\n",
    "    [df, pd.get_dummies(df.target)], \n",
    "    axis=1\n",
    ")"
   ]
  },
  {
   "cell_type": "code",
   "execution_count": null,
   "metadata": {},
   "outputs": [],
   "source": [
    "df"
   ]
  },
  {
   "cell_type": "code",
   "execution_count": null,
   "metadata": {},
   "outputs": [],
   "source": [
    "_SAVE = True\n",
    "\n",
    "if _SAVE:\n",
    "    save_dpath = os.path.join(DATA_DPATH, get_date_string())\n",
    "    os.makedirs(save_dpath, exist_ok=True)\n",
    "\n",
    "    df.to_excel(os.path.join(save_dpath, \"train.xlsx\"))"
   ]
  },
  {
   "cell_type": "code",
   "execution_count": null,
   "metadata": {},
   "outputs": [],
   "source": []
  }
 ],
 "metadata": {
  "kernelspec": {
   "display_name": "Python 3.8.10 ('.venv': poetry)",
   "language": "python",
   "name": "python3"
  },
  "language_info": {
   "codemirror_mode": {
    "name": "ipython",
    "version": 3
   },
   "file_extension": ".py",
   "mimetype": "text/x-python",
   "name": "python",
   "nbconvert_exporter": "python",
   "pygments_lexer": "ipython3",
   "version": "3.8.10"
  },
  "vscode": {
   "interpreter": {
    "hash": "d98277ffaafe94a736ef78497e61be91c0157ee3c287827b6ad43f71289cbe3d"
   }
  }
 },
 "nbformat": 4,
 "nbformat_minor": 2
}
